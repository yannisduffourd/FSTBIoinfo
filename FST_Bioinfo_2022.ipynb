{
  "nbformat": 4,
  "nbformat_minor": 0,
  "metadata": {
    "colab": {
      "provenance": [],
      "history_visible": true,
      "authorship_tag": "ABX9TyMv47tkSomPSwF0w6skga5k",
      "include_colab_link": true
    },
    "kernelspec": {
      "name": "python3",
      "display_name": "Python 3"
    },
    "language_info": {
      "name": "python"
    },
    "gpuClass": "standard"
  },
  "cells": [
    {
      "cell_type": "markdown",
      "metadata": {
        "id": "view-in-github",
        "colab_type": "text"
      },
      "source": [
        "<a href=\"https://colab.research.google.com/github/yannisduffourd/FSTBIoinfo/blob/main/FST_Bioinfo_2022.ipynb\" target=\"_parent\"><img src=\"https://colab.research.google.com/assets/colab-badge.svg\" alt=\"Open In Colab\"/></a>"
      ]
    },
    {
      "cell_type": "markdown",
      "source": [
        "\n",
        "\n",
        "```\n",
        "# Créer un programme qui calcul le GC% d'une séquence \n",
        "\n",
        "```\n",
        "\n"
      ],
      "metadata": {
        "id": "4xjaArDYZHjO"
      }
    },
    {
      "cell_type": "code",
      "execution_count": 4,
      "metadata": {
        "colab": {
          "base_uri": "https://localhost:8080/"
        },
        "id": "Lc8hzdmGVQ_S",
        "outputId": "0d733814-0435-4f05-ec2e-a63aacc87bb9"
      },
      "outputs": [
        {
          "output_type": "stream",
          "name": "stdout",
          "text": [
            "12 C or G in the sequence\n"
          ]
        }
      ],
      "source": [
        "import os \n",
        "import sys\n",
        "\n",
        "nbCG = 0\n",
        "\n",
        "for i in \"ACGATCAGCATCGACTACGACTACT\":\n",
        "  if i == \"G\" or i == \"C\":\n",
        "    nbCG += 1\n",
        "sys.stdout.write(\"%s C or G in the sequence\\n\" % nbCG)"
      ]
    },
    {
      "cell_type": "code",
      "source": [],
      "metadata": {
        "id": "vaoKbgm_VSK0"
      },
      "execution_count": null,
      "outputs": []
    },
    {
      "cell_type": "markdown",
      "source": [],
      "metadata": {
        "id": "xrDZe6e9XiiY"
      }
    }
  ]
}